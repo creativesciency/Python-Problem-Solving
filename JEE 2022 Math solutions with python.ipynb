{
 "cells": [
  {
   "cell_type": "markdown",
   "id": "bb149c01",
   "metadata": {},
   "source": [
    "# Python solutions for\n",
    "## Mathematics Paper-1 JEE(Advanced) 2022\n"
   ]
  },
  {
   "cell_type": "markdown",
   "id": "faaa746b",
   "metadata": {},
   "source": [
    "Install prerequisites first.\n"
   ]
  },
  {
   "cell_type": "code",
   "execution_count": 186,
   "id": "02d4d2d7",
   "metadata": {},
   "outputs": [
    {
     "name": "stdout",
     "output_type": "stream",
     "text": [
      "Requirement already satisfied: sympy in ./.venv/lib/python3.10/site-packages (1.11.1)\n",
      "Requirement already satisfied: numpy in ./.venv/lib/python3.10/site-packages (1.24.2)\n",
      "Requirement already satisfied: matplotlib in ./.venv/lib/python3.10/site-packages (3.7.0)\n",
      "Requirement already satisfied: matplotlib_venn in ./.venv/lib/python3.10/site-packages (0.11.7)\n",
      "Requirement already satisfied: mpmath>=0.19 in ./.venv/lib/python3.10/site-packages (from sympy) (1.2.1)\n",
      "Requirement already satisfied: cycler>=0.10 in ./.venv/lib/python3.10/site-packages (from matplotlib) (0.11.0)\n",
      "Requirement already satisfied: fonttools>=4.22.0 in ./.venv/lib/python3.10/site-packages (from matplotlib) (4.38.0)\n",
      "Requirement already satisfied: packaging>=20.0 in ./.venv/lib/python3.10/site-packages (from matplotlib) (23.0)\n",
      "Requirement already satisfied: python-dateutil>=2.7 in ./.venv/lib/python3.10/site-packages (from matplotlib) (2.8.2)\n",
      "Requirement already satisfied: kiwisolver>=1.0.1 in ./.venv/lib/python3.10/site-packages (from matplotlib) (1.4.4)\n",
      "Requirement already satisfied: pyparsing>=2.3.1 in ./.venv/lib/python3.10/site-packages (from matplotlib) (3.0.9)\n",
      "Requirement already satisfied: contourpy>=1.0.1 in ./.venv/lib/python3.10/site-packages (from matplotlib) (1.0.7)\n",
      "Requirement already satisfied: pillow>=6.2.0 in ./.venv/lib/python3.10/site-packages (from matplotlib) (9.4.0)\n",
      "Requirement already satisfied: scipy in ./.venv/lib/python3.10/site-packages (from matplotlib_venn) (1.10.1)\n",
      "Requirement already satisfied: six>=1.5 in ./.venv/lib/python3.10/site-packages (from python-dateutil>=2.7->matplotlib) (1.16.0)\n"
     ]
    }
   ],
   "source": [
    "!pip install sympy numpy matplotlib matplotlib_venn\n"
   ]
  },
  {
   "cell_type": "markdown",
   "id": "555f8c30",
   "metadata": {},
   "source": [
    "We import some packages in advance. This detects any package problems as well.\n"
   ]
  },
  {
   "cell_type": "code",
   "execution_count": 187,
   "id": "e1863f80",
   "metadata": {},
   "outputs": [],
   "source": [
    "from sympy import *\n",
    "import math\n",
    "import numpy as np\n",
    "import matplotlib.pyplot as plt\n",
    "π = pi\n"
   ]
  },
  {
   "cell_type": "markdown",
   "id": "04c20f45",
   "metadata": {},
   "source": [
    "### Question 1\n"
   ]
  },
  {
   "cell_type": "code",
   "execution_count": 188,
   "id": "8ed59755",
   "metadata": {},
   "outputs": [
    {
     "name": "stdout",
     "output_type": "stream",
     "text": [
      "2.35619449019234\n"
     ]
    }
   ],
   "source": [
    "answer = simplify(\n",
    "    3/2 * acos((2/(2+π**2))**0.5) \n",
    "    + 1/4 * asin((2*(2**0.5)*π) / (2+π**2)) \n",
    "    + atan(2**0.5 / π)\n",
    "    )\n",
    "print(answer.evalf())\n"
   ]
  },
  {
   "cell_type": "markdown",
   "id": "7882b129",
   "metadata": {},
   "source": [
    "### Question 2\n"
   ]
  },
  {
   "cell_type": "code",
   "execution_count": 189,
   "id": "f89928d6",
   "metadata": {},
   "outputs": [
    {
     "data": {
      "text/latex": [
       "$\\displaystyle \\frac{2 \\log{\\left(\\sqrt{x} - 1 \\right)}}{\\log{\\left(e^{\\sqrt{x}} - e \\right)}}$"
      ],
      "text/plain": [
       "2*log(sqrt(x) - 1)/log(exp(sqrt(x)) - E)"
      ]
     },
     "execution_count": 189,
     "metadata": {},
     "output_type": "execute_result"
    }
   ],
   "source": [
    "def f(x):\n",
    "    return sin((π*x)/12)\n",
    "\n",
    "def g(x, alpha=1):\n",
    "    x_sqrt = sqrt(x)\n",
    "    alpha_sqrt = sqrt(alpha)\n",
    "    e = E\n",
    "    return (\n",
    "        (2 * log(x_sqrt - alpha_sqrt)) / \n",
    "        log(e**x_sqrt - e**alpha_sqrt)\n",
    "    )\n",
    "\n",
    "x = symbols('x', real=True)\n",
    "simplify(g(x))\n"
   ]
  },
  {
   "cell_type": "code",
   "execution_count": 190,
   "id": "ec909e3e",
   "metadata": {},
   "outputs": [
    {
     "data": {
      "text/plain": [
       "[Text(0.5, 0, 'x'), Text(0, 0.5, 'g(x)'), Text(0.5, 1.0, 'g(x)')]"
      ]
     },
     "execution_count": 190,
     "metadata": {},
     "output_type": "execute_result"
    },
    {
     "data": {
      "image/png": "[encoded data removed]",
      "text/plain": [
       "<Figure size 640x480 with 1 Axes>"
      ]
     },
     "metadata": {},
     "output_type": "display_data"
    }
   ],
   "source": [
    "import matplotlib.pyplot as plt\n",
    "fig, ax = plt.subplots()\n",
    "\n",
    "eps = 1e-7\n",
    "t = [x for x in np.linspace(1+eps, 1+3*eps)]\n",
    "y = [g(i) for i in t]\n",
    "\n",
    "ax.plot(t, y)\n",
    "ax.set(xlabel='x', ylabel='g(x)',\n",
    "       title='g(x)')\n",
    "       "
   ]
  },
  {
   "cell_type": "code",
   "execution_count": 191,
   "id": "f9cf4cad",
   "metadata": {},
   "outputs": [
    {
     "name": "stdout",
     "output_type": "stream",
     "text": [
      "alpha=1, g(1+)=2.12649227315745\n",
      "f(2)=1/2\n"
     ]
    }
   ],
   "source": [
    "print(f\"alpha=1, g(1+)={g(1+eps).evalf()}\")\n",
    "print(f\"f(2)={f(2)}\")\n"
   ]
  },
  {
   "cell_type": "markdown",
   "id": "3e1799ec",
   "metadata": {},
   "source": [
    "### Question 3\n"
   ]
  },
  {
   "cell_type": "code",
   "execution_count": 192,
   "id": "9f1822e6",
   "metadata": {},
   "outputs": [
    {
     "data": {
      "image/png": "[encoded data removed]",
      "text/plain": [
       "<Figure size 640x480 with 1 Axes>"
      ]
     },
     "metadata": {},
     "output_type": "display_data"
    }
   ],
   "source": [
    "from matplotlib_venn import venn3, venn3_circles\n",
    "v = venn3(subsets=(1, 1, 1, 1, 1, 1, 1), set_labels = ('FEVER', 'COUGH', 'BREATH'))\n",
    "labels = {\n",
    "    '100' : 'F',\n",
    "    '010' : 'C',\n",
    "    '001' : 'B',\n",
    "    '110' : 'Y',\n",
    "    '111' : 'X',\n",
    "    '101' : 'Z',\n",
    "    '011' : 'W',\n",
    "}\n",
    "for label_id, label in labels.items():\n",
    "    v.get_label_by_id(label_id).set_text(label)\n",
    "    "
   ]
  },
  {
   "cell_type": "code",
   "execution_count": 193,
   "id": "15747f5d",
   "metadata": {},
   "outputs": [
    {
     "name": "stdout",
     "output_type": "stream",
     "text": [
      "Y: 50, Z: 40, W:60\n",
      "Q3: Answer: 4/5\n"
     ]
    }
   ],
   "source": [
    "# Given in question\n",
    "F = 190\n",
    "C = 220\n",
    "B = 220\n",
    "X = 30\n",
    "\n",
    "# Solve for Y,Z,W\n",
    "\n",
    "from sympy.abc import y,z,w\n",
    "from sympy.solvers import solve\n",
    "# F+C-X-Y=330\n",
    "Y = solve(F+C-X-y-330, y)[0]\n",
    "# C+B-X-W=350\n",
    "W = solve(C+B-X-w-350, w)[0]\n",
    "# F+B-X-Z=340\n",
    "Z= solve(F+B-X-z-340, z)[0]\n",
    "\n",
    "print(f'Y: {Y}, Z: {Z}, W:{W}')\n",
    "answer = (900-(X+Y+Z+W))/900\n",
    "print(f'Q3: Answer: {answer}')\n"
   ]
  },
  {
   "cell_type": "markdown",
   "id": "5307b6b1",
   "metadata": {},
   "source": [
    "### Question 4\n"
   ]
  },
  {
   "cell_type": "code",
   "execution_count": 194,
   "id": "dbc8de81",
   "metadata": {},
   "outputs": [
    {
     "data": {
      "text/latex": [
       "$\\displaystyle 8 x y + 3 y$"
      ],
      "text/plain": [
       "8*x*y + 3*y"
      ]
     },
     "execution_count": 194,
     "metadata": {},
     "output_type": "execute_result"
    }
   ],
   "source": [
    "x,y = symbols(\"x y\", real=True)\n",
    "z = x+I*y\n",
    "\n",
    "numerator = (2+3*z+4*z*z)\n",
    "denom = (2-3*z+4*z*z)\n",
    "\n",
    "\n",
    "num_imag = numerator.as_real_imag()[1]\n",
    "num_imag\n"
   ]
  },
  {
   "cell_type": "code",
   "execution_count": 195,
   "id": "a10a6fa0",
   "metadata": {},
   "outputs": [
    {
     "name": "stdout",
     "output_type": "stream",
     "text": [
      "x=-3/8\n"
     ]
    }
   ],
   "source": [
    "X=solve(8*x+3, x)[0]\n",
    "print(f\"x={X}\")\n"
   ]
  },
  {
   "cell_type": "code",
   "execution_count": 196,
   "id": "4f8a1449",
   "metadata": {},
   "outputs": [
    {
     "data": {
      "text/plain": [
       "[(0,), (-sqrt(23)/8,), (sqrt(23)/8,)]"
      ]
     },
     "execution_count": 196,
     "metadata": {},
     "output_type": "execute_result"
    }
   ],
   "source": [
    "k = numerator / denom -  conjugate(numerator / denom)\n",
    "solve(k.subs(x,X),  y)\n"
   ]
  },
  {
   "cell_type": "code",
   "execution_count": 197,
   "id": "c95924c4",
   "metadata": {},
   "outputs": [
    {
     "name": "stdout",
     "output_type": "stream",
     "text": [
      "Question 4: 1/2\n"
     ]
    }
   ],
   "source": [
    "y = sqrt(23)/8\n",
    "answer = X**2 + y**2\n",
    "print(f\"Question 4: {answer}\")\n"
   ]
  },
  {
   "cell_type": "markdown",
   "id": "b39e5828",
   "metadata": {},
   "source": [
    "### Question 5\n"
   ]
  },
  {
   "cell_type": "code",
   "execution_count": 198,
   "id": "4edf9a99",
   "metadata": {},
   "outputs": [
    {
     "name": "stdout",
     "output_type": "stream",
     "text": [
      "Solutions: [(0, 0), (0, 1), (-sqrt(3)/2, -1/2), (sqrt(3)/2, -1/2)]\n",
      "Number of solutions: 4\n"
     ]
    }
   ],
   "source": [
    "x,y = symbols(\"x y\", real=True)\n",
    "z = x+I*y\n",
    "z_conj = conjugate(z)\n",
    "solutions = solve(z_conj - z*z - I*(z_conj+z*z), x, y)\n",
    "print(f\"Solutions: {solutions}\")\n",
    "print(f\"Number of solutions: {len(solutions)}\")\n"
   ]
  },
  {
   "cell_type": "markdown",
   "id": "0cc56abe",
   "metadata": {},
   "source": [
    "### Question 6\n"
   ]
  },
  {
   "cell_type": "code",
   "execution_count": 199,
   "id": "52343d3c",
   "metadata": {},
   "outputs": [
    {
     "data": {
      "text/latex": [
       "$\\displaystyle d_{1} w + 990 + \\frac{10 l}{d_{1}}$"
      ],
      "text/plain": [
       "d1*w + 990 + 10*l/d1"
      ]
     },
     "execution_count": 199,
     "metadata": {},
     "output_type": "execute_result"
    }
   ],
   "source": [
    "l,w, d1 = symbols(\"l, w, d1\", real=True)\n",
    "d2 = 10/d1\n",
    "def area(i):\n",
    "    return (l + (i-1)*d1) * (w+(i-1)*d2)\n",
    "\n",
    "A_51 = area(51)\n",
    "A_50 = area(50)\n",
    "one_diff = simplify(A_51 - A_50)\n",
    "required = simplify(area(100) - area(90))\n",
    "\n",
    "one_diff\n"
   ]
  },
  {
   "cell_type": "code",
   "execution_count": 200,
   "id": "914db509",
   "metadata": {},
   "outputs": [
    {
     "data": {
      "text/latex": [
       "$\\displaystyle 10 d_{1} w + 18800 + \\frac{100 l}{d_{1}}$"
      ],
      "text/plain": [
       "10*d1*w + 18800 + 100*l/d1"
      ]
     },
     "execution_count": 200,
     "metadata": {},
     "output_type": "execute_result"
    }
   ],
   "source": [
    "required\n"
   ]
  },
  {
   "cell_type": "code",
   "execution_count": 201,
   "id": "dafa7ba1",
   "metadata": {},
   "outputs": [
    {
     "data": {
      "text/latex": [
       "$\\displaystyle 8900$"
      ],
      "text/plain": [
       "8900"
      ]
     },
     "execution_count": 201,
     "metadata": {},
     "output_type": "execute_result"
    }
   ],
   "source": [
    "simplify(area(100) - area(90))\n",
    "diff_value = required - (one_diff*10)\n",
    "diff_value\n"
   ]
  },
  {
   "cell_type": "code",
   "execution_count": 202,
   "id": "a16de478",
   "metadata": {},
   "outputs": [
    {
     "name": "stdout",
     "output_type": "stream",
     "text": [
      "Question 6: 18900\n"
     ]
    }
   ],
   "source": [
    "answer = diff_value+1000*10\n",
    "print(f\"Question 6: {answer}\")\n"
   ]
  },
  {
   "cell_type": "markdown",
   "id": "bc044f31",
   "metadata": {},
   "source": [
    "### Question 7\n"
   ]
  },
  {
   "cell_type": "code",
   "execution_count": 203,
   "id": "e44ff3c3",
   "metadata": {},
   "outputs": [
    {
     "name": "stdout",
     "output_type": "stream",
     "text": [
      "Question 7: 569\n"
     ]
    }
   ],
   "source": [
    "def check_digits(n):\n",
    "    return all(c in '023467' for c in str(n))\n",
    "\n",
    "count = sum(1 for x in range(2022, 4483) if check_digits(x))\n",
    "print(f\"Question 7: {count}\")\n"
   ]
  },
  {
   "cell_type": "markdown",
   "id": "8e28771e",
   "metadata": {},
   "source": [
    "### Question 8\n"
   ]
  },
  {
   "cell_type": "code",
   "execution_count": 204,
   "id": "7f9bdb82",
   "metadata": {},
   "outputs": [
    {
     "name": "stdout",
     "output_type": "stream",
     "text": [
      "Question 8: [0, 4 - sqrt(10)] (0.837722339831621)\n"
     ]
    }
   ],
   "source": [
    "C = Point(0,3)\n",
    "B = Point(1, 0)\n",
    "A = Point(0, 0)\n",
    "triangle = Triangle(A,B,C)\n",
    "centre = triangle.circumcenter\n",
    "radius = triangle.circumradius\n",
    "\n",
    "r = symbols('r', real=True)\n",
    "# x,y = circumcenter, R= circumradius\n",
    "# (r-x)^2 + (r-y)^2 = (R-r)^2\n",
    "answer=solve(\n",
    "    (centre[0]-r)**2 + (centre[1]-r)**2 - (radius-r)**2, r)\n",
    "\n",
    "print(f\"Question 8: {answer} ({answer[1].evalf()})\")\n"
   ]
  },
  {
   "cell_type": "markdown",
   "id": "903b8468",
   "metadata": {},
   "source": [
    "### Question 9\n"
   ]
  },
  {
   "cell_type": "code",
   "execution_count": 205,
   "id": "813479be",
   "metadata": {},
   "outputs": [
    {
     "data": {
      "text/latex": [
       "$\\displaystyle \\frac{\\sqrt{\\log{\\left(x \\right)}}}{x \\left(a - \\log{\\left(x \\right)}^{1.5}\\right)^{2}}$"
      ],
      "text/plain": [
       "sqrt(log(x))/(x*(a - log(x)**1.5)**2)"
      ]
     },
     "execution_count": 205,
     "metadata": {},
     "output_type": "execute_result"
    }
   ],
   "source": [
    "a,x = symbols('a x', real=True)\n",
    "log_x = log(x)\n",
    "expression = sqrt(log_x) / (x*(a-(log_x**(3/2)))**2)\n",
    "\n",
    "expression\n"
   ]
  },
  {
   "cell_type": "code",
   "execution_count": 206,
   "id": "ecd3427b",
   "metadata": {},
   "outputs": [
    {
     "data": {
      "text/latex": [
       "$\\displaystyle \\frac{0.666666666666667}{a - 1} - \\frac{0.666666666666667}{a}$"
      ],
      "text/plain": [
       "0.666666666666667/(a - 1) - 0.666666666666667/a"
      ]
     },
     "execution_count": 206,
     "metadata": {},
     "output_type": "execute_result"
    }
   ],
   "source": [
    "q=integrate(expression,(x,1,E))\n",
    "q\n"
   ]
  },
  {
   "cell_type": "code",
   "execution_count": 207,
   "id": "ebc41164",
   "metadata": {},
   "outputs": [
    {
     "name": "stdout",
     "output_type": "stream",
     "text": [
      "Question 9 solution = [0.5 - 0.816496580927726*sqrt(y + 0.375), 0.816496580927726*sqrt(y + 0.375) + 0.5], where y=1\n"
     ]
    }
   ],
   "source": [
    "x,y = symbols('x y', real=True)\n",
    "b = 2/3 * ((y/(x-1)) - (y/x))\n",
    "\n",
    "solution = solve(b-1, x)\n",
    "print(f\"Question 9 solution = {solution}, where y=1\")\n"
   ]
  },
  {
   "cell_type": "code",
   "execution_count": 208,
   "id": "e3b61674",
   "metadata": {},
   "outputs": [],
   "source": [
    "### Question 10\n"
   ]
  },
  {
   "cell_type": "code",
   "execution_count": 209,
   "id": "b24664bb",
   "metadata": {},
   "outputs": [
    {
     "name": "stdout",
     "output_type": "stream",
     "text": [
      "T_20: 1504\n",
      "T_30: 3454\n",
      "Sum(T_1 .. T_20): 10510\n",
      "Sum(T_1 .. T_30): 35615\n"
     ]
    }
   ],
   "source": [
    "from functools import cache\n",
    "\n",
    "@cache\n",
    "def a(n):\n",
    "    return 7 + (n-1) * 8\n",
    "\n",
    "@cache\n",
    "def T(n):\n",
    "    if n == 1: return 3\n",
    "    # T(n) = a(n-1) + T(n-1)\n",
    "    return T(n-1) + a(n-1)\n",
    "\n",
    "print(f\"T_20: {T(20)}\")\n",
    "print(f\"T_30: {T(30)}\")\n",
    "print(f\"Sum(T_1 .. T_20): {sum(T(x) for x in range(1, 21))}\")\n",
    "print(f\"Sum(T_1 .. T_30): {sum(T(x) for x in range(1, 31))}\")\n"
   ]
  },
  {
   "cell_type": "markdown",
   "id": "e39573e6",
   "metadata": {},
   "source": [
    "### Question 12\n"
   ]
  },
  {
   "cell_type": "code",
   "execution_count": 210,
   "id": "506fd918",
   "metadata": {},
   "outputs": [
    {
     "name": "stdout",
     "output_type": "stream",
     "text": [
      "A: -2*p - 2*t - 10, B: 2*t - 15, G: 2*p - 18\n",
      "3(a+b)=-6*p - 75\n",
      "3(b+g)=6*p + 6*t - 99\n",
      "3(g+a)=-6*t - 84\n",
      "3(a+b+g)=-129\n",
      "Solutions for 3*(a+b): [(13/3, t)]\n",
      "Solutions for 3*(b+g): [(14/3 - t, t)]\n",
      "Solutions for 3*(g+a): [(p, 1/3)]\n",
      "Solutions for 3*(a+b+g): []\n"
     ]
    }
   ],
   "source": [
    "a,b,g = symbols('a b g', real=True)\n",
    "t, p = symbols('t p', real=True)\n",
    "A = solve((a+10) / 2 + (t+p), a)[0]\n",
    "B = solve((b+15)/2 -t, b)[0]\n",
    "G = solve((g+20)/2 - (1+p), g)[0]\n",
    "print(f\"A: {A}, B: {B}, G: {G}\")\n",
    "print(f\"3(a+b)={3*(A+B)}\")\n",
    "print(f\"3(b+g)={3*(B+G)}\")\n",
    "print(f\"3(g+a)={3*(G+A)}\")\n",
    "print(f\"3(a+b+g)={3*(A+B+G)}\")\n",
    "print(\"Solutions for 3*(a+b):\", solve(3*(A+B)+101, (p,t)))\n",
    "print(\"Solutions for 3*(b+g):\",solve(3*(B+G)+71, (p,t)))\n",
    "print(\"Solutions for 3*(g+a):\",solve(3*(G+A)+86, (p,t)))\n",
    "print(\"Solutions for 3*(a+b+g):\",solve(3*(A+B+G)+121, (p,t)))\n"
   ]
  },
  {
   "cell_type": "markdown",
   "id": "a149934f",
   "metadata": {},
   "source": [
    "### Question 13\n"
   ]
  },
  {
   "cell_type": "code",
   "execution_count": 211,
   "id": "3e4856e0",
   "metadata": {},
   "outputs": [
    {
     "name": "stdout",
     "output_type": "stream",
     "text": [
      "slopes: [-1, 1/2]\n",
      "Intersection points: [Point2D(1, -2), Point2D(4, 4)]\n",
      "x - 1\n",
      "4*x - 3*y - 4\n",
      "Q1=Point2D(1, 1), Q2=Point2D(2/5, -4/5)\n"
     ]
    }
   ],
   "source": [
    "# tangent\n",
    "# y = mx + 1 / m\n",
    "m, q = symbols('m q', real=True)\n",
    "P = Point(-2, 1)\n",
    "slopes = solve(P[1] - (m*P[0]) - (1/m), m)\n",
    "print(f\"slopes: {slopes}\")\n",
    "intersect_pts = []\n",
    "for s in slopes:\n",
    "    # y = mq + 1 /m\n",
    "    yy = s*q + 1/s\n",
    "    xx = solve(yy*yy-4*q, q)[0]\n",
    "    yy = s*xx + 1/s\n",
    "    intersect_pts.append(Point(xx,yy))\n",
    "print(f\"Intersection points: {intersect_pts}\")\n",
    "focus = Point(1, 0)\n",
    "from sympy import Line\n",
    "line1 = Line(intersect_pts[0], focus)\n",
    "line2 = Line(intersect_pts[1], focus)\n",
    "print(line1.equation())\n",
    "print(line2.equation())\n",
    "\n",
    "Q1 = line1.perpendicular_line(P).intersection(line1)[0]\n",
    "Q2 = line2.perpendicular_line(P).intersection(line2)[0]\n",
    "print(f'Q1={Q1}, Q2={Q2}')\n"
   ]
  },
  {
   "cell_type": "code",
   "execution_count": 212,
   "id": "fa6e3acf",
   "metadata": {},
   "outputs": [
    {
     "name": "stdout",
     "output_type": "stream",
     "text": [
      "SQ=1\n",
      "Q1Q2=3*sqrt(10)/5\n",
      "PQ1=3\n",
      "SQ2=1\n"
     ]
    }
   ],
   "source": [
    "print(f\"SQ={Q1.distance(focus)}\")\n",
    "print(f\"Q1Q2={Q1.distance(Q2)}\")\n",
    "print(f\"PQ1={Q1.distance(P)}\")\n",
    "print(f\"SQ2={Q2.distance(focus)}\")\n"
   ]
  },
  {
   "cell_type": "markdown",
   "id": "5e5d3c0f",
   "metadata": {},
   "source": [
    "### Question 14\n"
   ]
  },
  {
   "cell_type": "code",
   "execution_count": 213,
   "id": "1fcef15f",
   "metadata": {},
   "outputs": [
    {
     "name": "stdout",
     "output_type": "stream",
     "text": [
      "f(theta)=1.0*sin(t)**2 + 1.0\n",
      "g(theta)=1.0*Abs(sin(t)) + 1.0*Abs(cos(t))\n"
     ]
    }
   ],
   "source": [
    "def f(theta):\n",
    "    m1 = Matrix([\n",
    "        [1, sin(theta), 1],\n",
    "        [-sin(theta), 1, sin(theta)],\n",
    "        [-1, -sin(theta), 1]\n",
    "    ])\n",
    "    \n",
    "    m2 = Matrix([\n",
    "        [sin(pi), cos(theta+pi/4), tan(theta - pi/4)],\n",
    "        [sin(theta-pi/4), -cos(pi/2), log(4/pi)],\n",
    "        [cot(theta+pi/4), log(pi/4), tan(pi)]\n",
    "    ])\n",
    "    return simplify(1/2 * m1.det() + m2.det())\n",
    "\n",
    "t = symbols('t', real=True)\n",
    "\n",
    "print(f\"f(theta)={f(t)}\")\n",
    "\n",
    "def g(theta):\n",
    "    return sqrt(f(theta)-1) + sqrt(f(pi/2 - theta) - 1)\n",
    "print(f\"g(theta)={g(t)}\")\n"
   ]
  },
  {
   "cell_type": "code",
   "execution_count": 214,
   "id": "e8ed7923",
   "metadata": {},
   "outputs": [
    {
     "name": "stdout",
     "output_type": "stream",
     "text": [
      "Min: 1.00000000000000, max: 1.41403190070121\n"
     ]
    },
    {
     "data": {
      "image/png": "[encoded data removed]",
      "text/plain": [
       "<Figure size 640x480 with 1 Axes>"
      ]
     },
     "metadata": {},
     "output_type": "display_data"
    }
   ],
   "source": [
    "fig, ax = plt.subplots()\n",
    "\n",
    "t = [x for x in np.linspace(-math.pi, math.pi)]\n",
    "y = [abs(sin(i)) + abs(cos(i)) for i in t]\n",
    "\n",
    "ax.plot(t, y)\n",
    "ax.set(xlabel='x', ylabel='g(x)',\n",
    "       title='g(x)')\n",
    "print(f\"Min: {min(y)}, max: {max(y)}\")\n"
   ]
  },
  {
   "cell_type": "code",
   "execution_count": 215,
   "id": "e50313f7",
   "metadata": {},
   "outputs": [
    {
     "name": "stdout",
     "output_type": "stream",
     "text": [
      "p(2) = 2 - sqrt(2) (0.585786437626905)\n",
      "p(sqrt(2)/4 + 3/4) = -9/16 + 3*sqrt(2)/8 (-0.0321699141100894)\n",
      "p(1/4 + 3*sqrt(2)/4) = -9/16 + 3*sqrt(2)/8 (-0.0321699141100894)\n",
      "p(-1/4 + 5*sqrt(2)/4) = 15/16 - 5*sqrt(2)/8 (0.0536165235168156)\n",
      "p(5/4 - sqrt(2)/4) = 15/16 - 5*sqrt(2)/8 (0.0536165235168156)\n"
     ]
    }
   ],
   "source": [
    "def poly(x):\n",
    "    return simplify((x-1) * (x-sqrt(2)))\n",
    "for q in [2, (3+sqrt(2))/4, (1+3*sqrt(2))/4, \n",
    "        (5*sqrt(2) - 1)/4, (5-sqrt(2))/4]:\n",
    "    v = poly(q)\n",
    "    print(f\"p({q}) = {v} ({v.evalf()})\")\n",
    "    "
   ]
  },
  {
   "cell_type": "markdown",
   "id": "5c51e6ad",
   "metadata": {},
   "source": [
    "### Question 15\n"
   ]
  },
  {
   "cell_type": "code",
   "execution_count": 216,
   "id": "fa0b015c",
   "metadata": {},
   "outputs": [
    {
     "name": "stdout",
     "output_type": "stream",
     "text": [
      "sin(x) + cos(x) - 1 = [0, pi/2]\n",
      "sqrt(3)*tan(3*x) - 1 = [pi/18]\n",
      "2*cos(2*x) - sqrt(3) = [pi/12, 11*pi/12]\n",
      "sin(x) - cos(x) - 1 = [pi/2]\n"
     ]
    }
   ],
   "source": [
    "x = symbols('x', real=True)\n",
    "f1 = cos(x) + sin(x) - 1\n",
    "f2 = sqrt(3) * tan(3*x) - 1\n",
    "f3 = 2* cos(2*x) - sqrt(3)\n",
    "f4 = sin(x) - cos(x) - 1\n",
    "for f in [f1, f2, f3, f4]:\n",
    "    print(f\"{f} = {solve(f, x)}\")\n",
    "    "
   ]
  },
  {
   "cell_type": "markdown",
   "id": "64750a31",
   "metadata": {},
   "source": [
    "### Question 16\n"
   ]
  },
  {
   "cell_type": "code",
   "execution_count": 217,
   "id": "0034fef0",
   "metadata": {},
   "outputs": [
    {
     "name": "stdout",
     "output_type": "stream",
     "text": [
      "Counter({'x>y': 30, 'x=y': 6})\n",
      "P(X2>=Y2) = 1/36\n",
      "P(X3>Y3) = 0, 355/864=0.41087962962962965, 77/432=0.17824074074074073\n"
     ]
    }
   ],
   "source": [
    "from collections import Counter\n",
    "from itertools import product \n",
    "counts = Counter()\n",
    "for x in range(1, 7):\n",
    "    for y in range(1, 7):\n",
    "        if x > y:\n",
    "            counts['x>y'] +=1\n",
    "        elif x == y:\n",
    "            counts['x=y'] += 1\n",
    "        else:\n",
    "            counts['x>y'] += 1\n",
    "print(counts)\n",
    "# P(x>y) = P(x>y) = 15/36 = 5/12\n",
    "p_x_le_y = counts['x>y']/36\n",
    "p_x_ge_y = counts['x>y']/36\n",
    "p_x_eq_y = counts['x=y']/36\n",
    "\n",
    "\n",
    "def score(outcome):\n",
    "    if outcome == 'x=y': \n",
    "        return (2,2, p_x_eq_y)\n",
    "    if outcome == 'x>y':\n",
    "        return (0, 5, p_x_le_y)\n",
    "    return (5,0, p_x_ge_y)\n",
    "    \n",
    "\n",
    "PX2_ge_Y2=0\n",
    "for r1,r2 in product(counts, counts):\n",
    "    round1 =score(r1)\n",
    "    round2 = score(r2)\n",
    "    if (round1[0] + round2[0]) >= (round1[1] + round2[1]):\n",
    "        PX2_ge_Y2 += round1[-1] * round2[-1]\n",
    "    \n",
    "print(f\"P(X2>=Y2) = {nsimplify(PX2_ge_Y2)}\")\n",
    "\n",
    "PX3_gr_Y2 = 0\n",
    "for r in product(counts, counts, counts):\n",
    "    rounds =[score(x) for x in r]\n",
    "    if sum(x[0] for x in rounds) > (sum(x[1] for x in rounds)):\n",
    "        PX3_gr_Y2 += rounds[0][-1] * rounds[1][-1] * rounds[2][-1]\n",
    "print(f\"P(X3>Y3) = {PX3_gr_Y2}, 355/864={355/864}, 77/432={77/432}\")\n",
    "\n",
    "        \n",
    "        \n",
    "        "
   ]
  },
  {
   "cell_type": "markdown",
   "id": "76e42524",
   "metadata": {},
   "source": [
    "### Question 17\n"
   ]
  },
  {
   "cell_type": "code",
   "execution_count": 218,
   "id": "dcb1d5bc",
   "metadata": {},
   "outputs": [
    {
     "data": {
      "text/plain": [
       "(1/(a + 9*d), 1/(a + 99*d), 1/(a + 999*d))"
      ]
     },
     "execution_count": 218,
     "metadata": {},
     "output_type": "execute_result"
    }
   ],
   "source": [
    "a,d = symbols('a d', real=True)\n",
    "def h(n):\n",
    "    return 1 / (a+(n-1)*d)\n",
    "\n",
    "p = h(10)\n",
    "q = h(100)\n",
    "r = h(1000)\n",
    "\n",
    "p, q, r\n"
   ]
  },
  {
   "cell_type": "code",
   "execution_count": 219,
   "id": "90cc217d",
   "metadata": {},
   "outputs": [
    {
     "data": {
      "text/plain": [
       "[{a: d}]"
      ]
     },
     "execution_count": 219,
     "metadata": {},
     "output_type": "execute_result"
    }
   ],
   "source": [
    "solve(q/r-10)\n"
   ]
  },
  {
   "cell_type": "code",
   "execution_count": 220,
   "id": "48145ca0",
   "metadata": {},
   "outputs": [
    {
     "data": {
      "text/plain": [
       "(1/(10*d), 1/(100*d), 1/(1000*d))"
      ]
     },
     "execution_count": 220,
     "metadata": {},
     "output_type": "execute_result"
    }
   ],
   "source": [
    "p1, q1, r1 = p.subs(a,d), q.subs(a,d), r.subs(a,d)\n",
    "p1, q1, r1\n"
   ]
  },
  {
   "cell_type": "code",
   "execution_count": 221,
   "id": "b5b2c7d7",
   "metadata": {},
   "outputs": [
    {
     "data": {
      "text/latex": [
       "$\\displaystyle \\left\\{\\left( 10 z + \\frac{10}{9}, \\  - 11 z - \\frac{1}{9}, \\  z\\right)\\right\\}$"
      ],
      "text/plain": [
       "{(10*z + 10/9, -11*z - 1/9, z)}"
      ]
     },
     "execution_count": 221,
     "metadata": {},
     "output_type": "execute_result"
    }
   ],
   "source": [
    "x,y,z = symbols('x y z', real=True)\n",
    "\n",
    "p1, q1, r1 = p.subs(a,d), q.subs(a,d), r.subs(a,d)\n",
    "A = Matrix([[1, 1, 1], [10, 100, 1000], [q1*r1, p1*r1, p1*q1]])\n",
    "b = Matrix([[1], [0], [0]])\n",
    "linsolve((A,b), [x,y,z])\n"
   ]
  },
  {
   "cell_type": "code",
   "execution_count": 222,
   "id": "96c38dcd",
   "metadata": {},
   "outputs": [
    {
     "data": {
      "text/latex": [
       "$\\displaystyle \\emptyset$"
      ],
      "text/plain": [
       "EmptySet"
      ]
     },
     "execution_count": 222,
     "metadata": {},
     "output_type": "execute_result"
    }
   ],
   "source": [
    "A = Matrix([[1, 1, 1], [10, 100, 1000], [q*r, p*r, p*q]])\n",
    "b = Matrix([[1], [0], [0]])\n",
    "linsolve((A,b), [x,y,z])\n"
   ]
  },
  {
   "cell_type": "markdown",
   "id": "46f23312",
   "metadata": {},
   "source": [
    "### Question 18\n"
   ]
  },
  {
   "cell_type": "code",
   "execution_count": 223,
   "id": "b44a52d6",
   "metadata": {},
   "outputs": [
    {
     "name": "stdout",
     "output_type": "stream",
     "text": [
      "Ellipse intersect: [-sqrt(12 - 3*alpha**2)/2, sqrt(12 - 3*alpha**2)/2]\n",
      "Circle intersect: [-sqrt(4 - alpha**2), sqrt(4 - alpha**2)]\n"
     ]
    }
   ],
   "source": [
    "# ellipse: x^2/4 + y^2/3 = 1\n",
    "# auxillary circle: x^2 + y^2 = 4\n",
    "\n",
    "alpha = symbols('alpha', real=True)\n",
    "x, y = symbols('x, y', real=True)\n",
    "# calculate intersection for ellipse and aux circle\n",
    "ellipse = alpha**2/4 + y**2/3 - 1\n",
    "aux_circle = alpha**2+y**2-4\n",
    "circle_intersect = solve(aux_circle, y)\n",
    "ellipse_intersect = solve(ellipse, y)\n",
    "print(f\"Ellipse intersect: {ellipse_intersect}\")\n",
    "print(f\"Circle intersect: {circle_intersect}\")\n"
   ]
  },
  {
   "cell_type": "code",
   "execution_count": 224,
   "id": "9d467392",
   "metadata": {},
   "outputs": [
    {
     "name": "stdout",
     "output_type": "stream",
     "text": [
      "E=Point2D(alpha, sqrt(12 - 3*alpha**2)/2), F=Point2D(alpha, sqrt(4 - alpha**2))\n"
     ]
    }
   ],
   "source": [
    "E = Point(alpha, sqrt(12 - 3*alpha**2)/2)\n",
    "F = Point(alpha, sqrt(4-alpha**2))\n",
    "print(f\"E={E}, F={F}\")\n"
   ]
  },
  {
   "cell_type": "code",
   "execution_count": 225,
   "id": "72cf720f",
   "metadata": {},
   "outputs": [
    {
     "name": "stdout",
     "output_type": "stream",
     "text": [
      "G=Point2D(4/alpha, 0)\n"
     ]
    },
    {
     "data": {
      "text/latex": [
       "$\\displaystyle \\operatorname{acos}{\\left(- \\frac{\\left|{\\alpha}\\right|}{2} \\right)}$"
      ],
      "text/plain": [
       "acos(-Abs(alpha)/2)"
      ]
     },
     "execution_count": 225,
     "metadata": {},
     "output_type": "execute_result"
    }
   ],
   "source": [
    "# tangent to ellipse at point x1,y1 = xx1/a^2 + yy1/b^2 - 1 = 0\n",
    "# x = a^2/ x1\n",
    "G = Point(4/E[0], 0)\n",
    "print(f\"G={G}\")\n",
    "origin = Point(0,0)\n",
    "f_origin_line = Line(F, Point(0,0))\n",
    "line2 = Line(origin, G)\n",
    "line2.angle_between(f_origin_line)\n"
   ]
  },
  {
   "cell_type": "code",
   "execution_count": 226,
   "id": "5fcac4f0",
   "metadata": {},
   "outputs": [
    {
     "data": {
      "text/latex": [
       "$\\displaystyle \\frac{\\left(4 - \\alpha^{2}\\right)^{\\frac{3}{2}}}{2 \\alpha}$"
      ],
      "text/plain": [
       "(4 - alpha**2)**(3/2)/(2*alpha)"
      ]
     },
     "execution_count": 226,
     "metadata": {},
     "output_type": "execute_result"
    }
   ],
   "source": [
    "H = Point(alpha, 0)\n",
    "\n",
    "triangle = Triangle(H, G, F)\n",
    "triangle.area\n"
   ]
  },
  {
   "cell_type": "code",
   "execution_count": 227,
   "id": "a6e09d8e",
   "metadata": {},
   "outputs": [
    {
     "data": {
      "text/latex": [
       "$\\displaystyle 1$"
      ],
      "text/plain": [
       "1"
      ]
     },
     "execution_count": 227,
     "metadata": {},
     "output_type": "execute_result"
    }
   ],
   "source": [
    "option_1=2* cos(pi/4)\n",
    "triangle.area.subs(alpha, option_1)\n"
   ]
  },
  {
   "cell_type": "code",
   "execution_count": 228,
   "id": "5394f39a",
   "metadata": {},
   "outputs": [
    {
     "data": {
      "text/latex": [
       "$\\displaystyle \\frac{3 \\sqrt{3}}{2}$"
      ],
      "text/plain": [
       "3*sqrt(3)/2"
      ]
     },
     "execution_count": 228,
     "metadata": {},
     "output_type": "execute_result"
    }
   ],
   "source": [
    "option_2 = 2 * cos(pi/3)\n",
    "triangle.area.subs(alpha, option_2)\n"
   ]
  },
  {
   "cell_type": "code",
   "execution_count": null,
   "id": "3b3b2149",
   "metadata": {},
   "outputs": [],
   "source": [
    " \n",
    " "
   ]
  }
 ],
 "metadata": {
  "kernelspec": {
   "display_name": "Python 3 (ipykernel)",
   "language": "python",
   "name": "python3"
  },
  "language_info": {
   "codemirror_mode": {
    "name": "ipython",
    "version": 3
   },
   "file_extension": ".py",
   "mimetype": "text/x-python",
   "name": "python",
   "nbconvert_exporter": "python",
   "pygments_lexer": "ipython3",
   "version": "3.10.6"
  }
 },
 "nbformat": 4,
 "nbformat_minor": 5
}
